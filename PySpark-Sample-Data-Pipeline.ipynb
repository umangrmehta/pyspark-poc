{
 "cells": [
  {
   "cell_type": "code",
   "execution_count": 1,
   "metadata": {},
   "outputs": [],
   "source": [
    "from pyspark.sql import SparkSession\n",
    "from pyspark.sql.types import DoubleType, IntegerType, StringType, StructType, StructField"
   ]
  },
  {
   "cell_type": "code",
   "execution_count": 2,
   "metadata": {},
   "outputs": [],
   "source": [
    "spark = SparkSession.builder \\\n",
    "    .master(\"local[1]\") \\\n",
    "    .appName(\"PySpark-PoC\") \\\n",
    "    .getOrCreate()"
   ]
  },
  {
   "cell_type": "markdown",
   "metadata": {},
   "source": [
    "## Data Read"
   ]
  },
  {
   "cell_type": "code",
   "execution_count": 3,
   "metadata": {},
   "outputs": [
    {
     "name": "stdout",
     "output_type": "stream",
     "text": [
      "+------------+-------------+-------+-------+------+--------+-------------+-------------+----+----------+-----------------+--------+-----+------+--------------+------------+---------+\n",
      "|squareMeters|numberOfRooms|hasYard|hasPool|floors|cityCode|cityPartRange|numPrevOwners|made|isNewBuilt|hasStormProtector|basement|attic|garage|hasStorageRoom|hasGuestRoom|price    |\n",
      "+------------+-------------+-------+-------+------+--------+-------------+-------------+----+----------+-----------------+--------+-----+------+--------------+------------+---------+\n",
      "|75523       |3            |0      |1      |63    |9373    |3            |8            |2005|0         |1                |4313    |9005 |956   |0             |7           |7559081.5|\n",
      "|80771       |39           |1      |1      |98    |39381   |8            |6            |2015|1         |0                |3653    |2436 |128   |1             |2           |8085989.5|\n",
      "|55712       |58           |0      |1      |19    |34457   |6            |8            |2021|0         |0                |2937    |8852 |135   |1             |9           |5574642.1|\n",
      "|32316       |47           |0      |0      |6     |27939   |10           |4            |2012|0         |1                |659     |7141 |359   |0             |3           |3232561.2|\n",
      "|70429       |19           |1      |1      |90    |38045   |3            |7            |1990|1         |0                |8435    |2429 |292   |1             |4           |7055052.0|\n",
      "|39223       |36           |0      |1      |17    |39489   |8            |6            |2012|0         |1                |2009    |4552 |757   |0             |1           |3926647.2|\n",
      "|58682       |10           |1      |1      |99    |6450    |10           |9            |1995|1         |1                |5930    |9453 |848   |0             |5           |5876376.5|\n",
      "|86929       |100          |1      |0      |11    |98155   |3            |4            |2003|1         |0                |6326    |4748 |654   |0             |10          |8696869.3|\n",
      "|51522       |3            |0      |0      |61    |9047    |8            |3            |2012|1         |1                |632     |5792 |807   |1             |5           |5154055.2|\n",
      "|39686       |42           |0      |0      |15    |71019   |5            |8            |2021|1         |1                |5198    |5342 |591   |1             |3           |3970892.1|\n",
      "|23563       |21           |0      |1      |90    |91058   |6            |8            |1993|1         |0                |703     |852  |684   |1             |10          |2366397.3|\n",
      "|96470       |74           |1      |0      |21    |92029   |4            |2            |2011|1         |1                |5414    |1172 |716   |1             |9           |9652258.1|\n",
      "|19127       |31           |1      |0      |5     |7475    |2            |9            |2008|0         |0                |5387    |4430 |374   |0             |4           |1914688.8|\n",
      "|13087       |44           |1      |0      |77    |40475   |8            |4            |2004|1         |0                |1745    |724  |582   |0             |0           |1320803.4|\n",
      "|79770       |3            |0      |1      |69    |54812   |10           |5            |2018|0         |1                |8871    |7117 |240   |0             |7           |7986665.8|\n",
      "|75985       |60           |1      |0      |67    |6517    |6            |9            |2009|1         |1                |4878    |281  |384   |1             |5           |7607322.9|\n",
      "|64169       |88           |0      |1      |6     |61711   |3            |9            |2011|1         |1                |3054    |129  |726   |0             |9           |6420823.1|\n",
      "|99371       |31           |1      |1      |16    |96297   |7            |8            |2013|1         |1                |3258    |6296 |354   |1             |8           |9944705.3|\n",
      "|25966       |37           |1      |1      |17    |22818   |3            |1            |2016|0         |0                |8257    |2557 |162   |0             |6           |2604486.6|\n",
      "|41792       |43           |1      |1      |10    |80768   |9            |5            |2017|1         |1                |2950    |9573 |572   |1             |5           |4187667.7|\n",
      "+------------+-------------+-------+-------+------+--------+-------------+-------------+----+----------+-----------------+--------+-----+------+--------------+------------+---------+\n",
      "only showing top 20 rows\n",
      "\n"
     ]
    }
   ],
   "source": [
    "df = spark.read.option(\"inferSchema\", True).option(\"header\", True).csv(\"ParisHousing.csv\")\n",
    "df.show(truncate=False)"
   ]
  },
  {
   "cell_type": "markdown",
   "metadata": {},
   "source": [
    "## Apply Tranformation\n",
    "Finding Avg House Price for each City Part Range"
   ]
  },
  {
   "cell_type": "code",
   "execution_count": 4,
   "metadata": {},
   "outputs": [
    {
     "name": "stdout",
     "output_type": "stream",
     "text": [
      "+-------------+-----------------+\n",
      "|cityPartRange|avg(price)       |\n",
      "+-------------+-----------------+\n",
      "|1            |4903580.081187121|\n",
      "|2            |4931873.412525255|\n",
      "|3            |5026028.922322321|\n",
      "|4            |4932944.709190815|\n",
      "|5            |5059792.208050436|\n",
      "|6            |4990101.053989632|\n",
      "|7            |5069664.609451221|\n",
      "|8            |5082120.242898557|\n",
      "|9            |4954626.623069212|\n",
      "|10           |4978566.710358568|\n",
      "+-------------+-----------------+\n",
      "\n"
     ]
    }
   ],
   "source": [
    "df2 = df.groupBy(\"cityPartRange\").avg(\"price\").orderBy(\"cityPartRange\")\n",
    "df2.show(truncate=False)"
   ]
  },
  {
   "cell_type": "markdown",
   "metadata": {},
   "source": [
    "## Data Write"
   ]
  },
  {
   "cell_type": "code",
   "execution_count": 6,
   "metadata": {},
   "outputs": [],
   "source": [
    "df.coalesce(1).write.csv('mycsv.csv')"
   ]
  }
 ],
 "metadata": {
  "kernelspec": {
   "display_name": "Python 3",
   "language": "python",
   "name": "python3"
  },
  "language_info": {
   "codemirror_mode": {
    "name": "ipython",
    "version": 3
   },
   "file_extension": ".py",
   "mimetype": "text/x-python",
   "name": "python",
   "nbconvert_exporter": "python",
   "pygments_lexer": "ipython3",
   "version": "3.8.3"
  }
 },
 "nbformat": 4,
 "nbformat_minor": 4
}
